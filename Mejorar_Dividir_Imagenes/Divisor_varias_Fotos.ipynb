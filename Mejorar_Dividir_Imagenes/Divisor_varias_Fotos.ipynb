{
 "cells": [
  {
   "cell_type": "code",
   "execution_count": 3,
   "metadata": {},
   "outputs": [],
   "source": [
    "#cargar el dataset con labels:"
   ]
  },
  {
   "cell_type": "code",
   "execution_count": 4,
   "metadata": {},
   "outputs": [],
   "source": [
    "import os\n",
    "from PIL import Image\n",
    "\n",
    "def create_folders(output_path):\n",
    "    os.makedirs(output_path, exist_ok=True)\n",
    "\n",
    "def split_image(image_path, output_path, size=1280):\n",
    "    image = Image.open(image_path)\n",
    "    img_width, img_height = image.size\n",
    "    \n",
    "    # Calculate the number of tiles in both dimensions\n",
    "    num_tiles_x = (img_width + size - 1) // size\n",
    "    num_tiles_y = (img_height + size - 1) // size\n",
    "\n",
    "    for y in range(num_tiles_y):\n",
    "        for x in range(num_tiles_x):\n",
    "            start_x = x * size\n",
    "            start_y = y * size\n",
    "            end_x = min(start_x + size, img_width)\n",
    "            end_y = min(start_y + size, img_height)\n",
    "\n",
    "            # Crop the image\n",
    "            crop_img = image.crop((start_x, start_y, end_x, end_y))\n",
    "\n",
    "            # Pad the image if it's smaller than size\n",
    "            if end_x - start_x < size or end_y - start_y < size:\n",
    "                padded_img = Image.new('RGB', (size, size), color='black')\n",
    "                padded_img.paste(crop_img, (0, 0))\n",
    "                crop_img = padded_img\n",
    "\n",
    "            # Generate filename and save the cropped image\n",
    "            img_filename = f'{os.path.basename(image_path).replace(\".jpg\", \"\")}_{x}_{y}.jpg'\n",
    "            crop_img.save(os.path.join(output_path, img_filename))\n",
    "\n",
    "def process_images(input_folder, output_folder):\n",
    "    create_folders(output_folder)\n",
    "\n",
    "    for image_name in os.listdir(input_folder):\n",
    "        if image_name.lower().endswith('.jpg'):\n",
    "            image_path = os.path.join(input_folder, image_name)\n",
    "            split_image(image_path, output_folder)\n",
    "\n",
    "if __name__ == \"__main__\":\n",
    "    input_folder = r'D:\\Universidad_Daniel_Suarez\\2024_II\\TRABAJO_DE_GRADO\\Mejora_de_Imagenes\\IMAGENES_MEJORADAS'\n",
    "    output_folder = r'D:\\Universidad_Daniel_Suarez\\2024_II\\TRABAJO_DE_GRADO\\Mejora_de_Imagenes\\IMAGENES_MEJORADAS\\Imagenes_Mejoradas_Divididas_1280'\n",
    "    process_images(input_folder, output_folder)\n"
   ]
  }
 ],
 "metadata": {
  "kernelspec": {
   "display_name": "Python 3",
   "language": "python",
   "name": "python3"
  },
  "language_info": {
   "codemirror_mode": {
    "name": "ipython",
    "version": 3
   },
   "file_extension": ".py",
   "mimetype": "text/x-python",
   "name": "python",
   "nbconvert_exporter": "python",
   "pygments_lexer": "ipython3",
   "version": "3.12.1"
  }
 },
 "nbformat": 4,
 "nbformat_minor": 2
}
